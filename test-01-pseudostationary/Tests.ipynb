{
 "cells": [
  {
   "cell_type": "markdown",
   "metadata": {},
   "source": [
    "# Test 1: Identify pseudostationary states \n",
    "Model system of three reactions and three intermediates. \n",
    "\n",
    " Main path:      R+* → R* → P* → P + *\n",
    " \n",
    " Competing path:            P* → U* → U + * \n",
    " \n",
    "\"U\" is an undesired product and \"U*\" acts as a poison which, however, has a very low production rate. Full description of this model network available in the Supplementary Information of [Nature Communications 2018, 9, 526](https://www.nature.com/articles/s41467-018-02884-y). \n"
   ]
  },
  {
   "cell_type": "code",
   "execution_count": 1,
   "metadata": {},
   "outputs": [
    {
     "name": "stdout",
     "output_type": "stream",
     "text": [
      "# Heading \r\n",
      "restart: \r\n",
      "PR:=1.0 : PP:= 0.0 : PU:= 0.0 : T:=300 :\r\n",
      "\r\n",
      "# Kinetic constants\r\n",
      "kadsRiO:=evalf(101325*PR*exp(-max(0.00,0.000000,-1.000000)/(0.861733E-4*T))/(1.7492150414*10^19*sqrt(1.6605390400*(2*evalf(Pi)*1.3806485200)*10^(-23)*T*52.00*10^(-27)))) :  kdesRiO:=evalf(20836612225.1252*T*exp(-max(0.00,0.000000,1.000000)/(8.617333262145E-5*T)) ): \r\n",
      "kadsPiO:=evalf(101325*PP*exp(-max(0.00,0.000000,-1.100000)/(0.861733E-4*T))/(1.7492150414*10^19*sqrt(1.6605390400*(2*evalf(Pi)*1.3806485200)*10^(-23)*T*52.00*10^(-27)))) :  kdesPiO:=evalf(20836612225.1252*T*exp(-max(0.00,0.000000,1.100000)/(8.617333262145E-5*T)) ): \r\n",
      "kadsUiO:=evalf(101325*PU*exp(-max(0.00,0.000000,-2.100000)/(0.861733E-4*T))/(1.7492150414*10^19*sqrt(1.6605390400*(2*evalf(Pi)*1.3806485200)*10^(-23)*T*52.00*10^(-27)))) :  kdesUiO:=evalf(20836612225.1252*T*exp(-max(0.00,0.000000,2.100000)/(8.617333262145E-5*T)) ): \r\n",
      "kr1d:=evalf(20836612225.1252*T*exp(-max(0.0,1.000000,0.000000)/(8.617333262145E-5*T)) ):  kr1i:=evalf(20836612225.1252*T*exp(-max(0.0,1.000000,-0.000000)/(8.617333262145E-5*T)) ): \r\n",
      "kr2d:=evalf(20836612225.1252*T*exp(-max(0.0,1.400000,-1.000000)/(8.617333262145E-5*T)) ):  kr2i:=evalf(20836612225.1252*T*exp(-max(0.0,2.400000,1.000000)/(8.617333262145E-5*T)) ): \r\n",
      "\r\n",
      "# Reaction rates:\r\n",
      "radsRiO:=(t)-> (1-exp(-1*t))*kadsRiO*ciO(t)-kdesRiO*cR(t) : \r\n",
      "radsPiO:=(t)-> (1-exp(-1*t))*kadsPiO*ciO(t)-kdesPiO*cP(t) : \r\n",
      "radsUiO:=(t)-> (1-exp(-1*t))*kadsUiO*ciO(t)-kdesUiO*cU(t) : \r\n",
      "rr1:=(t)-> kr1d*cR(t) -kr1i*cP(t) : \r\n",
      "rr2:=(t)-> kr2d*cP(t) -kr2i*cU(t) : \r\n",
      "\r\n",
      "# Site-balance equation: \r\n",
      "ciO:=(t)-> 1.0 -cP(t) -cR(t) -cU(t):\r\n",
      "\r\n",
      "# Differential equations: \r\n",
      "eqdP:=diff(cP(t),t)=+radsPiO(t)+rr1(t)-rr2(t)  : \r\n",
      "eqdR:=diff(cR(t),t)=+radsRiO(t)-rr1(t)  : \r\n",
      "eqdU:=diff(cU(t),t)=+radsUiO(t)+rr2(t)  : \r\n",
      "\r\n",
      "# Initial conditions: \r\n",
      "IC0:= cP(0.0)=0.0, cR(0.0)=0.0, cU(0.0)=0.0 : \r\n",
      "\r\n",
      "# SODE Solver: \r\n",
      "Solution:=dsolve({eqdP, eqdR, eqdU, IC0}, numeric, method=rosenbrock, maxfun=0, abserr=1E-16, interr=false);\r\n"
     ]
    }
   ],
   "source": [
    "# Preprocessing\n",
    "!python3 '../amk.py' # > ../test1-pseudostationary.maplet"
   ]
  },
  {
   "cell_type": "code",
   "execution_count": 2,
   "metadata": {},
   "outputs": [],
   "source": [
    "# Processing: running Maple in command line\n",
    "\n"
   ]
  },
  {
   "cell_type": "code",
   "execution_count": 3,
   "metadata": {},
   "outputs": [],
   "source": [
    "# Postprocessing\n"
   ]
  },
  {
   "cell_type": "markdown",
   "metadata": {},
   "source": [
    "# Test 2: Path analyzer\n",
    "To find the relevant intermediates/reactions towards a particular product "
   ]
  },
  {
   "cell_type": "code",
   "execution_count": null,
   "metadata": {},
   "outputs": [],
   "source": []
  },
  {
   "cell_type": "code",
   "execution_count": null,
   "metadata": {},
   "outputs": [],
   "source": []
  },
  {
   "cell_type": "code",
   "execution_count": null,
   "metadata": {},
   "outputs": [],
   "source": []
  },
  {
   "cell_type": "code",
   "execution_count": null,
   "metadata": {},
   "outputs": [],
   "source": []
  },
  {
   "cell_type": "code",
   "execution_count": null,
   "metadata": {},
   "outputs": [],
   "source": []
  }
 ],
 "metadata": {
  "kernelspec": {
   "display_name": "Python 3",
   "language": "python",
   "name": "python3"
  },
  "language_info": {
   "codemirror_mode": {
    "name": "ipython",
    "version": 3
   },
   "file_extension": ".py",
   "mimetype": "text/x-python",
   "name": "python",
   "nbconvert_exporter": "python",
   "pygments_lexer": "ipython3",
   "version": "3.5.2"
  }
 },
 "nbformat": 4,
 "nbformat_minor": 2
}
